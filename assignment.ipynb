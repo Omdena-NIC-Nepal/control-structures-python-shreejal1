{
 "cells": [
  {
   "cell_type": "markdown",
   "metadata": {},
   "source": [
    "## Python Control Structures Assignment\n",
    "\n",
    "# Instructions\n",
    "Welcome to the Python Control Structures Assignment! In this assignment, you will work through a series of exercises to test your understanding of Python control structures like `while`, `for`, and `if` statements, including the use of `break` and `continue` statements. Your task is to implement the provided starter code and ensure your solutions meet the requirements.\n",
    "\n",
    "### Part 1: Looping Constructs\n",
    "\n",
    "#### Task 1: `while` loop\n",
    "- Write a `while` loop that prints all the even numbers from 0 to 20.\n",
    "- If the number reaches 16, break out of the loop."
   ]
  },
  {
   "cell_type": "code",
   "execution_count": null,
   "metadata": {},
   "outputs": [],
   "source": [
    "# Task 1: while loop\n",
    "def while_loop():\n",
    "    number = 0\n",
    "    while number <= 20:\n",
    "        if number % 2 == 0:\n",
    "            print(number)\n",
    "        if number == 16:\n",
    "            break\n",
    "        number += 1"
   ]
  },
  {
   "cell_type": "markdown",
   "metadata": {},
   "source": [
    "#### Task 2: `for` loop with `continue`\n",
    "- Write a `for` loop that iterates through numbers from 1 to 15.\n",
    "- If the number is divisible by 3, skip printing it using the `continue` statement.\n"
   ]
  },
  {
   "cell_type": "code",
   "execution_count": null,
   "metadata": {},
   "outputs": [],
   "source": [
    "# Task 2: for loop with continue\n",
    "def for_loop_continue():\n",
    "    for number in range(1, 16):\n",
    "        if number % 3 == 0:\n",
    "            continue\n",
    "        print(number)"
   ]
  },
  {
   "cell_type": "markdown",
   "metadata": {},
   "source": [
    "#### Task 3: `if-else` statement\n",
    "- Write an `if-else` statement that checks if a given number is positive, negative, or zero.\n",
    "- Print an appropriate message for each case."
   ]
  },
  {
   "cell_type": "code",
   "execution_count": null,
   "metadata": {},
   "outputs": [],
   "source": [
    "# Task 3: if-else statement\n",
    "number = int(input(\"Enter a number: \"))\n",
    "# Your code here"
   ]
  },
  {
   "cell_type": "markdown",
   "metadata": {},
   "source": [
    "#### Task 4: Nested loops\n",
    "- Write a program that uses nested loops to print a multiplication table for numbers 1 through 5.\n"
   ]
  },
  {
   "cell_type": "code",
   "execution_count": null,
   "metadata": {},
   "outputs": [],
   "source": [
    "# Task 4: Nested loops\n",
    "for i in range(1, 6):\n",
    "    for j in range(1, 6):\n",
    "        # Your code here\n",
    "        pass"
   ]
  },
  {
   "cell_type": "markdown",
   "metadata": {},
   "source": []
  }
 ],
 "metadata": {
  "kernelspec": {
   "display_name": "Python [conda env:base] *",
   "language": "python",
   "name": "conda-base-py"
  },
  "language_info": {
   "codemirror_mode": {
    "name": "ipython",
    "version": 3
   },
   "file_extension": ".py",
   "mimetype": "text/x-python",
   "name": "python",
   "nbconvert_exporter": "python",
   "pygments_lexer": "ipython3",
   "version": "3.12.7"
  }
 },
 "nbformat": 4,
 "nbformat_minor": 4
}
